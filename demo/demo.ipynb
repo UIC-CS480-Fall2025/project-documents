{
 "cells": [
  {
   "cell_type": "markdown",
   "id": "6dff5e62",
   "metadata": {},
   "source": [
    "This is just a notebook show-casing the core functionality of project. You **should not submit a notebook** for project, your application should have a **User Interface**."
   ]
  },
  {
   "cell_type": "markdown",
   "id": "8caa1f39",
   "metadata": {},
   "source": [
    "# Relational DB Example"
   ]
  },
  {
   "cell_type": "code",
   "execution_count": 1,
   "id": "c5b4463d",
   "metadata": {},
   "outputs": [
    {
     "data": {
      "text/plain": [
       "True"
      ]
     },
     "execution_count": 1,
     "metadata": {},
     "output_type": "execute_result"
    }
   ],
   "source": [
    "import psycopg2 # connecting to postgreSQL\n",
    "import os\n",
    "from dotenv import load_dotenv\n",
    "\n",
    "load_dotenv() # load password from .env file in the same directory"
   ]
  },
  {
   "cell_type": "markdown",
   "id": "da78a3b4",
   "metadata": {},
   "source": [
    "Connect to postgreSQL"
   ]
  },
  {
   "cell_type": "code",
   "execution_count": 2,
   "id": "42faf47b",
   "metadata": {},
   "outputs": [],
   "source": [
    "conn = psycopg2.connect(\n",
    "    host=\"localhost\",\n",
    "    port=\"5432\",\n",
    "    database=\"postgres\",\n",
    "    user=\"postgres\",\n",
    "    password=os.getenv(\n",
    "        \"DB_PASS\"\n",
    "    ),  # You can simply enter your password here, instead of using .env\n",
    ")"
   ]
  },
  {
   "cell_type": "code",
   "execution_count": 3,
   "id": "1bd6e72f",
   "metadata": {},
   "outputs": [],
   "source": [
    "cur = conn.cursor()"
   ]
  },
  {
   "cell_type": "markdown",
   "id": "67b3796d",
   "metadata": {},
   "source": [
    "Get the list of all tables in 'postgres' database:"
   ]
  },
  {
   "cell_type": "code",
   "execution_count": 8,
   "id": "a8e7d8c5",
   "metadata": {},
   "outputs": [
    {
     "name": "stdout",
     "output_type": "stream",
     "text": [
      "Tables in database:\n"
     ]
    }
   ],
   "source": [
    "cur.execute(\"\"\"\n",
    "    SELECT table_name\n",
    "    FROM information_schema.tables\n",
    "    WHERE table_schema='public';\n",
    "\"\"\")\n",
    "tables = cur.fetchall()\n",
    "\n",
    "print(\"Tables in database:\")\n",
    "for table in tables:\n",
    "    print(\"-\", table[0])"
   ]
  },
  {
   "cell_type": "markdown",
   "id": "a741a0e9",
   "metadata": {},
   "source": [
    "Add a table:"
   ]
  },
  {
   "cell_type": "code",
   "execution_count": 5,
   "id": "7c0a63e1",
   "metadata": {},
   "outputs": [],
   "source": [
    "cur.execute(\"\"\"\n",
    "    CREATE TABLE IF NOT EXISTS people (\n",
    "        id SERIAL PRIMARY KEY,\n",
    "        name VARCHAR(100)\n",
    "    );\n",
    "\"\"\")\n",
    "conn.commit()"
   ]
  },
  {
   "cell_type": "markdown",
   "id": "d9efcf49",
   "metadata": {},
   "source": [
    "Remove a table:"
   ]
  },
  {
   "cell_type": "code",
   "execution_count": 7,
   "id": "4601a644",
   "metadata": {},
   "outputs": [],
   "source": [
    "cur.execute(\"DROP TABLE IF EXISTS people;\")\n",
    "conn.commit()"
   ]
  },
  {
   "cell_type": "markdown",
   "id": "f230e446",
   "metadata": {},
   "source": [
    "Close the connection:"
   ]
  },
  {
   "cell_type": "code",
   "execution_count": 9,
   "id": "ed0ff657",
   "metadata": {},
   "outputs": [],
   "source": [
    "cur.close()\n",
    "conn.close()"
   ]
  },
  {
   "cell_type": "markdown",
   "id": "64437036",
   "metadata": {},
   "source": [
    "# Vector Database Example"
   ]
  },
  {
   "cell_type": "code",
   "execution_count": 10,
   "id": "1755917f",
   "metadata": {},
   "outputs": [
    {
     "name": "stderr",
     "output_type": "stream",
     "text": [
      "/Users/mohsen/Library/Python/3.9/lib/python/site-packages/urllib3/__init__.py:35: NotOpenSSLWarning: urllib3 v2 only supports OpenSSL 1.1.1+, currently the 'ssl' module is compiled with 'LibreSSL 2.8.3'. See: https://github.com/urllib3/urllib3/issues/3020\n",
      "  warnings.warn(\n",
      "/Users/mohsen/Library/Python/3.9/lib/python/site-packages/tqdm/auto.py:21: TqdmWarning: IProgress not found. Please update jupyter and ipywidgets. See https://ipywidgets.readthedocs.io/en/stable/user_install.html\n",
      "  from .autonotebook import tqdm as notebook_tqdm\n"
     ]
    }
   ],
   "source": [
    "import numpy as np\n",
    "from sentence_transformers import SentenceTransformer # for text -> vector embedding\n",
    "import faiss # an example of a vector DB (currently stores in the memory)"
   ]
  },
  {
   "cell_type": "markdown",
   "id": "1476f16e",
   "metadata": {},
   "source": [
    "An example document including a couple of facts in each paragraph:"
   ]
  },
  {
   "cell_type": "code",
   "execution_count": 11,
   "id": "a75f713e",
   "metadata": {},
   "outputs": [],
   "source": [
    "doc_text = \"\"\"\n",
    "The Eiffel Tower in Paris was completed in 1889 as the entrance arch to the World’s Fair. \n",
    "It is 324 meters tall and remains one of the most visited monuments in the world.\n",
    "\n",
    "Albert Einstein published his theory of special relativity in 1905. \n",
    "This work introduced the famous equation E=mc^2, linking energy and mass.\n",
    "\n",
    "The Amazon rainforest covers about 5.5 million square kilometers, making it the largest rainforest on Earth. \n",
    "It plays a crucial role in regulating the global climate by absorbing carbon dioxide.\n",
    "\n",
    "Mount Everest, located in the Himalayas on the border of Nepal and China, is the highest mountain in the world. \n",
    "Its peak reaches 8,849 meters above sea level.\n",
    "\n",
    "The Great Wall of China stretches over 21,000 kilometers. \n",
    "It was built over centuries to protect Chinese states and empires from invasions by nomadic groups.\n",
    "\n",
    "The Moon is Earth’s only natural satellite. \n",
    "It has a diameter of about 3,474 kilometers and affects ocean tides through its gravitational pull.\n",
    "\n",
    "Leonardo da Vinci painted the Mona Lisa in the early 16th century. \n",
    "The painting is displayed at the Louvre Museum in Paris and is considered one of the most famous artworks in history.\n",
    "\n",
    "The Pacific Ocean is the largest and deepest of Earth’s oceans. \n",
    "It covers more than 63 million square miles and contains the Mariana Trench, the deepest oceanic trench.\n",
    "\n",
    "The Colosseum in Rome, Italy, was built in the first century AD. \n",
    "It could hold up to 50,000 spectators and hosted gladiatorial contests and public spectacles.\n",
    "\n",
    "The Sahara Desert is the largest hot desert in the world. \n",
    "It spans approximately 9 million square kilometers across North Africa.\n",
    "\"\"\"\n"
   ]
  },
  {
   "cell_type": "markdown",
   "id": "c3960144",
   "metadata": {},
   "source": [
    "Chunk the document into [window]-sized tokens:"
   ]
  },
  {
   "cell_type": "code",
   "execution_count": 12,
   "id": "09dd0200",
   "metadata": {},
   "outputs": [],
   "source": [
    "def chunk_text(text, max_words=200, overlap=40):\n",
    "    words = text.split()\n",
    "    chunks = []\n",
    "    i = 0\n",
    "    while i < len(words):\n",
    "        chunk = words[i:i+max_words]\n",
    "        if not chunk:\n",
    "            break\n",
    "        chunks.append(\" \".join(chunk))\n",
    "        i += max_words - overlap  # slide window with overlap\n",
    "    return chunks"
   ]
  },
  {
   "cell_type": "code",
   "execution_count": 13,
   "id": "34fa1fd4",
   "metadata": {},
   "outputs": [
    {
     "name": "stdout",
     "output_type": "stream",
     "text": [
      "Total chunks: 27\n"
     ]
    }
   ],
   "source": [
    "chunks = chunk_text(doc_text, max_words=20, overlap=10)\n",
    "print(f\"Total chunks: {len(chunks)}\")"
   ]
  },
  {
   "cell_type": "markdown",
   "id": "7beecd38",
   "metadata": {},
   "source": [
    "Generate a vector embedding of each chunk:"
   ]
  },
  {
   "cell_type": "code",
   "execution_count": 14,
   "id": "e3c5045d",
   "metadata": {},
   "outputs": [],
   "source": [
    "model = SentenceTransformer(\"sentence-transformers/all-MiniLM-L6-v2\")  # 384-dim\n",
    "emb_matrix = model.encode(chunks, convert_to_numpy=True, normalize_embeddings=True)"
   ]
  },
  {
   "cell_type": "markdown",
   "id": "f73c02a3",
   "metadata": {},
   "source": [
    "Store the chunks into a vector database (here, faiss):"
   ]
  },
  {
   "cell_type": "code",
   "execution_count": 15,
   "id": "c0171dda",
   "metadata": {},
   "outputs": [],
   "source": [
    "dim = emb_matrix.shape[1]\n",
    "index = faiss.IndexFlatIP(dim)  # cosine works with normalized vectors using inner product\n",
    "index.add(emb_matrix)           # store embeddings"
   ]
  },
  {
   "cell_type": "markdown",
   "id": "49260d3f",
   "metadata": {},
   "source": [
    "Answer a query (just retrieve the top-k results):"
   ]
  },
  {
   "cell_type": "code",
   "execution_count": 16,
   "id": "2aeab2f7",
   "metadata": {},
   "outputs": [],
   "source": [
    "def search(query, k=3):\n",
    "    q_emb = model.encode([query], convert_to_numpy=True, normalize_embeddings=True)\n",
    "    scores, idxs = index.search(q_emb, k)  # (1, k)\n",
    "    results = []\n",
    "    for rank, (i, s) in enumerate(zip(idxs[0], scores[0]), start=1):\n",
    "        results.append({\"rank\": rank, \"score\": float(s), \"chunk\": chunks[i]})\n",
    "    return results"
   ]
  },
  {
   "cell_type": "code",
   "execution_count": 19,
   "id": "f846802d",
   "metadata": {},
   "outputs": [],
   "source": [
    "query = \"What is Mount Everest?\""
   ]
  },
  {
   "cell_type": "code",
   "execution_count": 20,
   "id": "41a0b7b5",
   "metadata": {},
   "outputs": [
    {
     "name": "stdout",
     "output_type": "stream",
     "text": [
      "\n",
      "Top matches:\n",
      "[1] score=0.635\n",
      "by absorbing carbon dioxide. Mount Everest, located in the Himalayas on the border of Nepal and China, is the highest\n",
      "---\n",
      "[2] score=0.635\n",
      "It plays a crucial role in regulating the global climate by absorbing carbon dioxide. Mount Everest, located in the Himalayas\n",
      "---\n",
      "[3] score=0.491\n",
      "on the border of Nepal and China, is the highest mountain in the world. Its peak reaches 8,849 meters above\n",
      "---\n"
     ]
    }
   ],
   "source": [
    "hits = search(query, k=3)\n",
    "\n",
    "print(\"\\nTop matches:\")\n",
    "for h in hits:\n",
    "    print(f\"[{h['rank']}] score={h['score']:.3f}\\n{h['chunk']}\\n---\")"
   ]
  }
 ],
 "metadata": {
  "kernelspec": {
   "display_name": "Python 3",
   "language": "python",
   "name": "python3"
  },
  "language_info": {
   "codemirror_mode": {
    "name": "ipython",
    "version": 3
   },
   "file_extension": ".py",
   "mimetype": "text/x-python",
   "name": "python",
   "nbconvert_exporter": "python",
   "pygments_lexer": "ipython3",
   "version": "3.9.6"
  }
 },
 "nbformat": 4,
 "nbformat_minor": 5
}
